{
  "nbformat": 4,
  "nbformat_minor": 0,
  "metadata": {
    "colab": {
      "provenance": []
    },
    "kernelspec": {
      "name": "python3",
      "display_name": "Python 3"
    },
    "language_info": {
      "name": "python"
    }
  },
  "cells": [
    {
      "cell_type": "markdown",
      "source": [
        "1. Compare the following spacy models in extracting medical entities including drug trade names:\n",
        "\n",
        "* **en_core_web_trf**: English transformer pipeline. Components: transformer, tagger, parser, ner, attribute_ruler, lemmatizer.\n",
        "* **en_ner_bc5cdr_md**: A spaCy NER model trained on the BC5CDR corpus.\n",
        "* **en_core_sci_lg**: A full spaCy pipeline for biomedical data with a larger vocabulary and 600k word vectors.\n",
        "* **en_core_sci_md**: A full spaCy pipeline for biomedical data with a larger vocabulary and 50k word vectors.\n",
        "* **en_core_sci_sm**: A full spaCy pipeline for biomedical data.\n",
        "\n"
      ],
      "metadata": {
        "id": "Wv4197ppg5ul"
      }
    },
    {
      "cell_type": "code",
      "source": [
        "!python -m spacy download en_core_web_trf"
      ],
      "metadata": {
        "id": "J0ZxxOx9CpuP"
      },
      "execution_count": null,
      "outputs": []
    },
    {
      "cell_type": "code",
      "source": [
        "!pip install scispacy"
      ],
      "metadata": {
        "id": "EMeDGLxVNkw5"
      },
      "execution_count": null,
      "outputs": []
    },
    {
      "cell_type": "code",
      "source": [
        "!pip install https://s3-us-west-2.amazonaws.com/ai2-s2-scispacy/releases/v0.5.4/en_ner_bc5cdr_md-0.5.4.tar.gz"
      ],
      "metadata": {
        "id": "Dr-4UT6RRuE4"
      },
      "execution_count": null,
      "outputs": []
    },
    {
      "cell_type": "code",
      "source": [
        "!pip install https://s3-us-west-2.amazonaws.com/ai2-s2-scispacy/releases/v0.5.4/en_core_sci_lg-0.5.4.tar.gz"
      ],
      "metadata": {
        "id": "11xlxIx3vvQQ"
      },
      "execution_count": null,
      "outputs": []
    },
    {
      "cell_type": "code",
      "source": [
        "!pip install https://s3-us-west-2.amazonaws.com/ai2-s2-scispacy/releases/v0.5.4/en_core_sci_md-0.5.4.tar.gz"
      ],
      "metadata": {
        "id": "W6StWM3v0y0v"
      },
      "execution_count": null,
      "outputs": []
    },
    {
      "cell_type": "code",
      "source": [
        "!pip install https://s3-us-west-2.amazonaws.com/ai2-s2-scispacy/releases/v0.5.4/en_core_sci_sm-0.5.4.tar.gz"
      ],
      "metadata": {
        "id": "595CjM3n04iW"
      },
      "execution_count": null,
      "outputs": []
    },
    {
      "cell_type": "code",
      "source": [
        "import re\n",
        "import pandas as pd\n",
        "import spacy\n",
        "import scispacy"
      ],
      "metadata": {
        "id": "Ap8K-za82t7V"
      },
      "execution_count": null,
      "outputs": []
    },
    {
      "cell_type": "code",
      "source": [
        "en_core_web_trf = spacy.load('en_core_web_trf')\n",
        "en_ner_bc5cdr_md = spacy.load('en_ner_bc5cdr_md')\n",
        "en_core_sci_lg = spacy.load('en_core_sci_lg')\n",
        "en_core_sci_md = spacy.load('en_core_sci_md')\n",
        "en_core_sci_sm = spacy.load('en_core_sci_sm')"
      ],
      "metadata": {
        "colab": {
          "base_uri": "https://localhost:8080/"
        },
        "id": "T_Gb_z__21rE",
        "outputId": "dab4db01-911f-46b9-ec64-72e1e49f1070"
      },
      "execution_count": null,
      "outputs": [
        {
          "output_type": "stream",
          "name": "stderr",
          "text": [
            "/usr/local/lib/python3.10/dist-packages/spacy/language.py:2195: FutureWarning: Possible set union at position 6328\n",
            "  deserializers[\"tokenizer\"] = lambda p: self.tokenizer.from_disk(  # type: ignore[union-attr]\n"
          ]
        }
      ]
    },
    {
      "cell_type": "code",
      "source": [
        "source_lang_code = 'en'\n",
        "models_with_names = {\n",
        "    'en_core_web_trf': en_core_web_trf,\n",
        "    'en_ner_bc5cdr_md': en_ner_bc5cdr_md,\n",
        "    'en_core_sci_lg': en_core_sci_lg,\n",
        "    'en_core_sci_md': en_core_sci_md,\n",
        "    'en_core_sci_sm': en_core_sci_sm\n",
        "    }"
      ],
      "metadata": {
        "id": "2ZUxQpCToGbg"
      },
      "execution_count": null,
      "outputs": []
    },
    {
      "cell_type": "code",
      "source": [
        "test_dict = {'test_list': [\n",
        "    'Adakveo',\n",
        "    'crizanlizumab',\n",
        "    'Afinitor Disperz®/Votubia®',\n",
        "    '(everolimus)',\n",
        "    'Afinitor®/Votubia®',\n",
        "    'everolimus',\n",
        "    'Oncology',\n",
        "    'Aimovig',\n",
        "    'erenumab',\n",
        "    'Arzerra',\n",
        "    '(ofatumumab)',\n",
        "    'Oncology',\n",
        "    'Azorga',\n",
        "    '(brinzolamide',\n",
        "    'timolol)',\n",
        "    'Beovu®',\n",
        "    'assumption',\n",
        "    'pneumonia',\n",
        "    'coronary heart disease',\n",
        "    '(brolucizumab)',\n",
        "    'Cibacen®',\n",
        "    '(benazepril hydrochloride)',\n",
        "    'Ciprodex®',\n",
        "    '(ciprofloxacin, dexamethasone)',\n",
        "    'Comtan',\n",
        "    '(entacapone)',\n",
        "    'Cosentyx®',\n",
        "    '(secukinumab)',\n",
        "    'Diovan HCT/Co-Diovan',\n",
        "    '(valsartan, hydrochlorothiazide)',\n",
        "    'Diovan®',\n",
        "    '(valsartan)',\n",
        "    'Duotrav',\n",
        "    '(travoprost, timolol)',\n",
        "    'Durezol®',\n",
        "    '(difluprednate)',\n",
        "    'Egaten®',\n",
        "    '(triclabendazole)',\n",
        "    'Entresto',\n",
        "    '(sacubitril, valsartan)',\n",
        "    'Eucreas®',\n",
        "    '(vildagliptin, metformin)',\n",
        "    'Exelon®',\n",
        "    '(rivastigmine)',\n",
        "    'Exforge HCT',\n",
        "    '(valsartan',\n",
        "    'amlodipine besylate',\n",
        "    'hydrochlorothiazide',\n",
        "    'Exforge®',\n",
        "    '(valsartan',\n",
        "    'amlodipine besylate)',\n",
        "    'Exjade',\n",
        "    '(deferasirox)',\n",
        "    'Extavia®',\n",
        "    '(interferon beta-1b)',\n",
        "    'Fabhalta®',\n",
        "    '(iptacopan)',\n",
        "    'Farydak',\n",
        "    '(panobinostat)',\n",
        "    'Femara®',\n",
        "    '(letrozole)',\n",
        "    'Focalin®',\n",
        "    '(dexmethylphenidate HCl',\n",
        "    'dexmethylphenidate extended release)',\n",
        "    'Focalin XR',\n",
        "    '(dexmethylphenidate HCl',\n",
        "    'dexmethylphenidate extended release)',\n",
        "    'Galvus®',\n",
        "    '(vildagliptin)',\n",
        "    'Gilenya®',\n",
        "    '(fingolimod)',\n",
        "    'cat',\n",
        "    'bread',\n",
        "    'Toshiba',\n",
        "    'Da Vinci',\n",
        "    'train',\n",
        "    'proton synchrotron'\n",
        "    ]}"
      ],
      "metadata": {
        "id": "Ccq8QmFl61TC"
      },
      "execution_count": null,
      "outputs": []
    },
    {
      "cell_type": "code",
      "source": [
        "def find_med_ents(test_list, source_lang_code, model):\n",
        "    list_of_med_ents = []\n",
        "    for i in test_list:\n",
        "        list_of_med_ents.append(model(i).ents)\n",
        "    return list_of_med_ents"
      ],
      "metadata": {
        "id": "tGQNvyQOqe0Z"
      },
      "execution_count": null,
      "outputs": []
    },
    {
      "cell_type": "code",
      "source": [
        "# Save medical entities identified by each model in the test_dict for comparison.\n",
        "for model in models_with_names:\n",
        "    output = find_med_ents(test_dict['test_list'], source_lang_code, models_with_names[model])\n",
        "    test_dict[model] = output"
      ],
      "metadata": {
        "id": "iePnxN55lcty"
      },
      "execution_count": null,
      "outputs": []
    },
    {
      "cell_type": "code",
      "source": [
        "df = pd.DataFrame(test_dict)\n",
        "df.to_excel('med_ents_spacy.xlsx', index = False)"
      ],
      "metadata": {
        "id": "5WbfhhTqSmF6"
      },
      "execution_count": null,
      "outputs": []
    },
    {
      "cell_type": "markdown",
      "source": [
        "2. Extract medical entities from the detailed translation memory using the best model."
      ],
      "metadata": {
        "id": "8tWQ32HRvA6J"
      }
    },
    {
      "cell_type": "code",
      "source": [
        "best_model = en_core_sci_md"
      ],
      "metadata": {
        "id": "leVMa2ECs7D6"
      },
      "execution_count": null,
      "outputs": []
    },
    {
      "cell_type": "code",
      "source": [
        "# Each row in the detailed_translation_memory DataFrame contains a source segment, a target segment, a client name, and an order number.\n",
        "df = pd.read_excel('detailed_translation_memory.xlsx')"
      ],
      "metadata": {
        "id": "e1HwLxdatQPW"
      },
      "execution_count": null,
      "outputs": []
    },
    {
      "cell_type": "code",
      "source": [
        "# Extract medical entities from the source segments, storing them in a list, and indicate extracted entities for each segment in the DataFrame for future statistical analysis.\n",
        "med_ents = []\n",
        "i = 0\n",
        "df['Medical entities'] = ''\n",
        "\n",
        "for source in df['sourceText']:\n",
        "  med_ents_in_segment = list(best_model(source).ents)\n",
        "  med_ents.extend(med_ents_in_segment)\n",
        "  df.at[i, 'Medical entities'] = med_ents_in_segment\n",
        "  i += 1\n",
        "\n",
        "len(med_ents)"
      ],
      "metadata": {
        "colab": {
          "base_uri": "https://localhost:8080/"
        },
        "id": "ucx2TvTnt3gx",
        "outputId": "b7f17cf7-928c-4055-b0bb-12cf49707f5c"
      },
      "execution_count": null,
      "outputs": [
        {
          "output_type": "execute_result",
          "data": {
            "text/plain": [
              "1040"
            ]
          },
          "metadata": {},
          "execution_count": 20
        }
      ]
    },
    {
      "cell_type": "code",
      "source": [
        "# Remove duplicate entries and entities that are likely to be irrelevant or erroneous.\n",
        "clean_med_ents = []\n",
        "\n",
        "for ent in med_ents:\n",
        "  ent = str(ent)\n",
        "  if (re.search(r\"^[а-яa-zА-ЯA-Z \\(\\)\\/—–-]+$\", ent) and\n",
        "      len(ent) > 3 and ent not in clean_med_ents):\n",
        "   clean_med_ents.append(str(ent))\n",
        "\n",
        "len(clean_med_ents)"
      ],
      "metadata": {
        "colab": {
          "base_uri": "https://localhost:8080/"
        },
        "id": "lWgH-YeT0j41",
        "outputId": "588ab4ce-493b-4740-91cd-f7503dd56ba9"
      },
      "execution_count": null,
      "outputs": [
        {
          "output_type": "execute_result",
          "data": {
            "text/plain": [
              "435"
            ]
          },
          "metadata": {},
          "execution_count": 21
        }
      ]
    },
    {
      "cell_type": "code",
      "source": [
        "# Save the augmented detailed translation memory, which includes medical entities for each row, as well as a clean list of medical entities for use with GPT.\n",
        "df.to_excel('detailed_TM_with_ents.xlsx', index = False)\n",
        "\n",
        "clean_list_of_ents = pd.DataFrame(clean_med_ents, columns = ['med_ents'])\n",
        "clean_list_of_ents.to_excel('med_ents_detailed_TM.xlsx', index = False)"
      ],
      "metadata": {
        "id": "-GEq4i9JxWPC"
      },
      "execution_count": null,
      "outputs": []
    }
  ]
}